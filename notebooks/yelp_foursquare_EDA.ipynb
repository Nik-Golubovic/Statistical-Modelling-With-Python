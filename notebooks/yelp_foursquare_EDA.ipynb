{
 "cells": [
  {
   "cell_type": "code",
   "execution_count": 43,
   "metadata": {},
   "outputs": [
    {
     "name": "stdout",
     "output_type": "stream",
     "text": [
      "                                      Name                Category   Latitude  \\\n",
      "0                          Corktown Tavern                     Pub  43.249707   \n",
      "1                                 Niza Ent              Night Club  43.253717   \n",
      "2                         Black Forest Inn                     Bar  43.254392   \n",
      "3                                 Sous Bas                  Lounge  43.254119   \n",
      "4                          TJ King Karaoke          Amusement Park  43.254514   \n",
      "5                                  Tea Hut                     Bar  43.254244   \n",
      "6                   Rebel's Rock Irish Pub                     Bar  43.252669   \n",
      "7                                 33 Bowen             Music Venue  43.253973   \n",
      "8  Gallagher's Bar and Lounge 69 Augusta S  Arts and Entertainment  43.251655   \n",
      "9                           Cat 'N' Fiddle                     Pub  43.251502   \n",
      "\n",
      "   Longitude  \n",
      "0 -79.864303  \n",
      "1 -79.862338  \n",
      "2 -79.861571  \n",
      "3 -79.863658  \n",
      "4 -79.862890  \n",
      "5 -79.865672  \n",
      "6 -79.852703  \n",
      "7 -79.866276  \n",
      "8 -79.868063  \n",
      "9 -79.868593  \n"
     ]
    }
   ],
   "source": [
    "import requests\n",
    "import pandas as pd\n",
    "\n",
    "# Query Foursquare and filter for a 1000m radius and 10 results, sorted by distance\n",
    "url = f\"https://api.foursquare.com/v3/places/search?ll={latitude}%2C{longitude}&radius=1000&categories=13003&sort=DISTANCE&limit=10\"\n",
    "\n",
    "headers = {\n",
    "    \"accept\": \"application/json\",\n",
    "    \"Authorization\": \"fsq30LOsdqBe/1ig3j8Nd4alf6fqL5qfX785z0Jm/DidtRc=\"\n",
    "}\n",
    "\n",
    "response = requests.get(url, headers=headers)\n",
    "data = response.json()\n",
    "\n",
    "# Extract the relevant information from the response\n",
    "places = data.get(\"results\", [])\n",
    "\n",
    "# Create a list to store the place details\n",
    "place_details = []\n",
    "\n",
    "# Iterate over each place and extract the required details\n",
    "for place in places:\n",
    "    name = place.get(\"name\")\n",
    "    category = place.get(\"categories\")[0].get(\"name\")\n",
    "    latitude = place.get(\"geocodes\").get(\"main\").get(\"latitude\")\n",
    "    longitude = place.get(\"geocodes\").get(\"main\").get(\"longitude\")\n",
    "    place_details.append([name, category, latitude, longitude])\n",
    "\n",
    "# Create a dataframe from the place details\n",
    "df = pd.DataFrame(place_details, columns=[\"Name\", \"Category\", \"Latitude\", \"Longitude\"])\n",
    "\n",
    "# Print the dataframe\n",
    "print(df)\n",
    "\n",
    "\n"
   ]
  },
  {
   "attachments": {},
   "cell_type": "markdown",
   "metadata": {},
   "source": [
    "# Foursquare"
   ]
  },
  {
   "attachments": {},
   "cell_type": "markdown",
   "metadata": {},
   "source": [
    "Send a request to Foursquare with a small radius (1000m) for all the bike stations in your city of choice. "
   ]
  },
  {
   "cell_type": "code",
   "execution_count": 47,
   "metadata": {},
   "outputs": [
    {
     "name": "stdout",
     "output_type": "stream",
     "text": [
      "                    Name                Category   Latitude  Longitude\n",
      "0          Club Absinthe              Night Club  43.256943 -79.867659\n",
      "1              Undefined                     Bar  43.257392 -79.867642\n",
      "2             The French                Wine Bar  43.257347 -79.867496\n",
      "3  K Point Karaoke & Bar  Arts and Entertainment  43.258247 -79.868158\n",
      "4          Merit Brewing                     Bar  43.259490 -79.867997\n",
      "5                   B Me                     Bar  43.259542 -79.868052\n",
      "6    L'étranger on James  Arts and Entertainment  43.259535 -79.868144\n",
      "7             Undergound              Night Club  43.256647 -79.864966\n",
      "8          Hamilton Club              Night Club  43.255183 -79.869448\n",
      "9            LOFT Lounge              Night Club  43.257617 -79.871251\n"
     ]
    }
   ],
   "source": [
    "import pandas as pd\n",
    "\n",
    "# Read the CSV file into a DataFrame\n",
    "df = pd.read_csv('bike_station_data.csv')\n",
    "\n",
    "# Iterate over each row in the DataFrame\n",
    "for index, row in df.iterrows():\n",
    "    latitude = row['Latitude']\n",
    "    longitude = row['Longitude']\n",
    "    \n",
    "    # Query Foursquare and filter for a 1000m radius and 10 results, sorted by distance\n",
    "    url = f\"https://api.foursquare.com/v3/places/search?ll={latitude}%2C{longitude}&radius=1000&categories=13003&sort=DISTANCE&limit=10\"\n",
    "\n",
    "    headers = {\n",
    "    \"accept\": \"application/json\",\n",
    "    \"Authorization\": \"fsq30LOsdqBe/1ig3j8Nd4alf6fqL5qfX785z0Jm/DidtRc=\"\n",
    "}\n",
    "\n",
    "    response = requests.get(url, headers=headers)\n",
    "    data = response.json()\n",
    "\n",
    "    # Extract the relevant information from the response\n",
    "    places = data.get(\"results\", [])\n",
    "\n",
    "    # Create a list to store the place details\n",
    "    place_details = []\n",
    "\n",
    "    # Iterate over each place and extract the required details\n",
    "    for place in places:\n",
    "        name = place.get(\"name\")\n",
    "        category = place.get(\"categories\")[0].get(\"name\")\n",
    "        latitude = place.get(\"geocodes\").get(\"main\").get(\"latitude\")\n",
    "        longitude = place.get(\"geocodes\").get(\"main\").get(\"longitude\")\n",
    "        place_details.append([name, category, latitude, longitude])\n",
    "\n",
    "    # Create a dataframe from the place details\n",
    "    df = pd.DataFrame(place_details, columns=[\"Name\", \"Category\", \"Latitude\", \"Longitude\"])\n",
    "\n",
    "# Print the dataframe\n",
    "print(df)\n",
    "\n"
   ]
  },
  {
   "attachments": {},
   "cell_type": "markdown",
   "metadata": {},
   "source": [
    "Parse through the response to get the POI (such as restaurants, bars, etc) details you want (ratings, name, location, etc)"
   ]
  },
  {
   "cell_type": "code",
   "execution_count": 49,
   "metadata": {},
   "outputs": [
    {
     "name": "stdout",
     "output_type": "stream",
     "text": [
      "     Station ID                   Name                Category   Latitude  \\\n",
      "0       hub_435          Club Absinthe              Night Club  43.256943   \n",
      "1       hub_435          Hamilton Club              Night Club  43.255183   \n",
      "2       hub_435             The French                Wine Bar  43.257347   \n",
      "3       hub_435              Undefined                     Bar  43.257392   \n",
      "4       hub_435  K Point Karaoke & Bar  Arts and Entertainment  43.258247   \n",
      "...         ...                    ...                     ...        ...   \n",
      "1028   hub_6148                   B Me                     Bar  43.259542   \n",
      "1029   hub_6148    L'étranger on James  Arts and Entertainment  43.259535   \n",
      "1030   hub_6148             Undergound              Night Club  43.256647   \n",
      "1031   hub_6148          Hamilton Club              Night Club  43.255183   \n",
      "1032   hub_6148            LOFT Lounge              Night Club  43.257617   \n",
      "\n",
      "      Longitude  \n",
      "0    -79.867659  \n",
      "1    -79.869448  \n",
      "2    -79.867496  \n",
      "3    -79.867642  \n",
      "4    -79.868158  \n",
      "...         ...  \n",
      "1028 -79.868052  \n",
      "1029 -79.868144  \n",
      "1030 -79.864966  \n",
      "1031 -79.869448  \n",
      "1032 -79.871251  \n",
      "\n",
      "[1033 rows x 5 columns]\n"
     ]
    }
   ],
   "source": [
    "import pandas as pd\n",
    "import requests\n",
    "\n",
    "# Read the CSV file into a DataFrame\n",
    "df = pd.read_csv('bike_station_data.csv')\n",
    "\n",
    "# Create empty lists to store place details\n",
    "place_details = []\n",
    "\n",
    "# Iterate over each row in the DataFrame\n",
    "for index, row in df.iterrows():\n",
    "    station_id = row['Station ID']\n",
    "    latitude = row['Latitude']\n",
    "    longitude = row['Longitude']\n",
    "    \n",
    "    # Query Foursquare and filter for a 1000m radius and 10 results, sorted by distance\n",
    "    url = f\"https://api.foursquare.com/v3/places/search?ll={latitude}%2C{longitude}&radius=1000&categories=13003&sort=DISTANCE&limit=10\"\n",
    "\n",
    "    headers = {\n",
    "        \"accept\": \"application/json\",\n",
    "        \"Authorization\": \"fsq30LOsdqBe/1ig3j8Nd4alf6fqL5qfX785z0Jm/DidtRc=\"\n",
    "    }\n",
    "\n",
    "    response = requests.get(url, headers=headers)\n",
    "    data = response.json()\n",
    "\n",
    "    # Extract the relevant information from the response\n",
    "    places = data.get(\"results\", [])\n",
    "\n",
    "    # Iterate over each place and extract the required details\n",
    "    for place in places:\n",
    "        name = place.get(\"name\")\n",
    "        category = place.get(\"categories\")[0].get(\"name\")\n",
    "        latitude = place.get(\"geocodes\", {}).get(\"main\", {}).get(\"latitude\")\n",
    "        longitude = place.get(\"geocodes\", {}).get(\"main\", {}).get(\"longitude\")\n",
    "        place_details.append([station_id, name, category, latitude, longitude])\n",
    "\n",
    "# Create a DataFrame from the place details\n",
    "df_places = pd.DataFrame(place_details, columns=[\"Station ID\", \"Name\", \"Category\", \"Latitude\", \"Longitude\"])\n",
    "\n",
    "# Print the DataFrame\n",
    "print(df_places)\n"
   ]
  },
  {
   "attachments": {},
   "cell_type": "markdown",
   "metadata": {},
   "source": [
    "Put your parsed results into a DataFrame"
   ]
  },
  {
   "cell_type": "code",
   "execution_count": null,
   "metadata": {},
   "outputs": [],
   "source": []
  },
  {
   "attachments": {},
   "cell_type": "markdown",
   "metadata": {},
   "source": [
    "# Yelp"
   ]
  },
  {
   "attachments": {},
   "cell_type": "markdown",
   "metadata": {},
   "source": [
    "Send a request to Yelp with a small radius (1000m) for all the bike stations in your city of choice. "
   ]
  },
  {
   "cell_type": "code",
   "execution_count": 6,
   "metadata": {},
   "outputs": [
    {
     "ename": "KeyError",
     "evalue": "'businesses'",
     "output_type": "error",
     "traceback": [
      "\u001b[1;31m---------------------------------------------------------------------------\u001b[0m",
      "\u001b[1;31mKeyError\u001b[0m                                  Traceback (most recent call last)",
      "Cell \u001b[1;32mIn[6], line 41\u001b[0m\n\u001b[0;32m     38\u001b[0m data \u001b[39m=\u001b[39m response\u001b[39m.\u001b[39mjson()\n\u001b[0;32m     40\u001b[0m \u001b[39m# Extract the bars from the response\u001b[39;00m\n\u001b[1;32m---> 41\u001b[0m businesses \u001b[39m=\u001b[39m data[\u001b[39m'\u001b[39;49m\u001b[39mbusinesses\u001b[39;49m\u001b[39m'\u001b[39;49m]\n\u001b[0;32m     42\u001b[0m \u001b[39mfor\u001b[39;00m business \u001b[39min\u001b[39;00m businesses:\n\u001b[0;32m     43\u001b[0m     bar_name \u001b[39m=\u001b[39m business[\u001b[39m'\u001b[39m\u001b[39mname\u001b[39m\u001b[39m'\u001b[39m]\n",
      "\u001b[1;31mKeyError\u001b[0m: 'businesses'"
     ]
    }
   ],
   "source": [
    "import requests\n",
    "import pandas as pd\n",
    "\n",
    "# Read the CSV file into a DataFrame\n",
    "df = pd.read_csv('bike_station_data.csv')\n",
    "\n",
    "# Define the Yelp API endpoint and API key\n",
    "url = 'https://api.yelp.com/v3/businesses/search'\n",
    "api_key = 'YOUR_YELP_API_KEY'\n",
    "\n",
    "# Set the search parameters\n",
    "radius = 1000  # Meters\n",
    "categories = 'bars'\n",
    "sort_by = 'rating'\n",
    "limit = 50\n",
    "\n",
    "# Empty list to store the bars\n",
    "bars = []\n",
    "\n",
    "# Iterate over each row in the DataFrame\n",
    "for index, row in df.iterrows():\n",
    "    latitude = row['Latitude']\n",
    "    longitude = row['Longitude']\n",
    "\n",
    "    # Set the query parameters\n",
    "    params = {\n",
    "        'latitude': latitude,\n",
    "        'longitude': longitude,\n",
    "        'radius': radius,\n",
    "        'categories': categories,\n",
    "        'sort_by': sort_by,\n",
    "        'limit': limit\n",
    "    }\n",
    "\n",
    "    # Send a GET request to the Yelp API\n",
    "    headers = {'Authorization': 'Bearer ' + api_key}\n",
    "    response = requests.get(url, params=params, headers=headers)\n",
    "    data = response.json()\n",
    "\n",
    "    # Extract the bars from the response\n",
    "    businesses = data['businesses']\n",
    "    for business in businesses:\n",
    "        bar_name = business['name']\n",
    "        bar_rating = business['rating']\n",
    "        bar_address = ', '.join(business['location']['display_address'])\n",
    "        bars.append({'Station ID': row['Station ID'], 'Name': bar_name, 'Rating': bar_rating, 'Address': bar_address})\n",
    "\n",
    "# Create a new DataFrame from the bars list\n",
    "bars_df = pd.DataFrame(bars)\n",
    "\n",
    "# Sort the bars by rating in descending order\n",
    "bars_df.sort_values(by='Rating', ascending=False, inplace=True)\n",
    "\n",
    "# Reset the index of the DataFrame\n",
    "bars_df.reset_index(drop=True, inplace=True)\n",
    "\n",
    "# Print the top-rated bars\n",
    "print(bars_df.head())\n"
   ]
  },
  {
   "attachments": {},
   "cell_type": "markdown",
   "metadata": {},
   "source": [
    "Parse through the response to get the POI (such as restaurants, bars, etc) details you want (ratings, name, location, etc)"
   ]
  },
  {
   "cell_type": "code",
   "execution_count": null,
   "metadata": {},
   "outputs": [],
   "source": []
  },
  {
   "attachments": {},
   "cell_type": "markdown",
   "metadata": {},
   "source": [
    "Put your parsed results into a DataFrame"
   ]
  },
  {
   "attachments": {},
   "cell_type": "markdown",
   "metadata": {},
   "source": []
  },
  {
   "attachments": {},
   "cell_type": "markdown",
   "metadata": {},
   "source": [
    "# Comparing Results"
   ]
  },
  {
   "attachments": {},
   "cell_type": "markdown",
   "metadata": {},
   "source": [
    "Which API provided you with more complete data? Provide an explanation. "
   ]
  },
  {
   "attachments": {},
   "cell_type": "markdown",
   "metadata": {},
   "source": []
  },
  {
   "attachments": {},
   "cell_type": "markdown",
   "metadata": {},
   "source": [
    "Get the top 10 restaurants according to their rating"
   ]
  },
  {
   "cell_type": "code",
   "execution_count": null,
   "metadata": {},
   "outputs": [],
   "source": []
  }
 ],
 "metadata": {
  "kernelspec": {
   "display_name": "Python 3",
   "language": "python",
   "name": "python3"
  },
  "language_info": {
   "codemirror_mode": {
    "name": "ipython",
    "version": 3
   },
   "file_extension": ".py",
   "mimetype": "text/x-python",
   "name": "python",
   "nbconvert_exporter": "python",
   "pygments_lexer": "ipython3",
   "version": "3.10.9"
  }
 },
 "nbformat": 4,
 "nbformat_minor": 4
}
