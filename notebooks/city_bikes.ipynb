{
 "cells": [
  {
   "attachments": {},
   "cell_type": "markdown",
   "metadata": {},
   "source": [
    "# CityBikes"
   ]
  },
  {
   "attachments": {},
   "cell_type": "markdown",
   "metadata": {},
   "source": [
    "Send a request to CityBikes for the city of your choice. "
   ]
  },
  {
   "cell_type": "code",
   "execution_count": 1,
   "metadata": {},
   "outputs": [],
   "source": [
    "import requests\n",
    "import pandas as pd\n",
    "\n",
    "\n",
    "data = {\n",
    "    \"company\": [\n",
    "        \"Social Bicycles Inc.\"\n",
    "    ],\n",
    "    \"gbfs_href\": \"https://hamilton.socialbicycles.com/opendata/gbfs.json\",\n",
    "    \"href\": \"/v2/networks/sobi-hamilton\",\n",
    "    \"id\": \"sobi-hamilton\",\n",
    "    \"location\": {\n",
    "        \"city\": \"Hamilton, ON\",\n",
    "        \"country\": \"CA\",\n",
    "        \"latitude\": 43.25643601915583,\n",
    "        \"longitude\": -79.86929655075073\n",
    "    },\n",
    "    \"name\": \"SoBi\"\n",
    "}\n",
    "\n",
    "# Get the gbfs_href from the JSON data\n",
    "gbfs_href = data['gbfs_href']\n",
    "\n",
    "# Send a GET request to the gbfs_href URL\n",
    "response = requests.get(gbfs_href)\n",
    "gbfs_data = response.json()"
   ]
  },
  {
   "attachments": {},
   "cell_type": "markdown",
   "metadata": {},
   "source": [
    "Parse through the response to get the details you want for the bike stations in that city (latitude, longitude, number of bikes). "
   ]
  },
  {
   "cell_type": "code",
   "execution_count": 2,
   "metadata": {},
   "outputs": [],
   "source": [
    "# Retrieve the station information and status URLs\n",
    "feeds = gbfs_data['data']['en']['feeds']\n",
    "station_info_href = None\n",
    "station_status_href = None\n",
    "for feed in feeds:\n",
    "    if feed['name'] == 'station_information':\n",
    "        station_info_href = feed['url']\n",
    "    elif feed['name'] == 'station_status':\n",
    "        station_status_href = feed['url']\n",
    "    if station_info_href and station_status_href:\n",
    "        break\n",
    "\n",
    "if not station_info_href or not station_status_href:\n",
    "    print('Bike locations data not found')\n",
    "    exit()\n",
    "\n",
    "# Send GET requests to the station information and status URLs\n",
    "response_info = requests.get(station_info_href)\n",
    "response_status = requests.get(station_status_href)\n",
    "station_info_data = response_info.json()\n",
    "station_status_data = response_status.json()"
   ]
  },
  {
   "attachments": {},
   "cell_type": "markdown",
   "metadata": {},
   "source": [
    "Put your parsed results into a DataFrame."
   ]
  },
  {
   "cell_type": "code",
   "execution_count": 3,
   "metadata": {},
   "outputs": [
    {
     "name": "stdout",
     "output_type": "stream",
     "text": [
      "    Station ID                     Name   Latitude  Longitude  \\\n",
      "0      hub_435                Gore Park  43.256317 -79.868664   \n",
      "1      hub_436  James North at Mulberry  43.261819 -79.866743   \n",
      "2      hub_527                Seedworks  43.259111 -79.863613   \n",
      "3      hub_530  Cootes at York and King  43.265581 -79.949656   \n",
      "4      hub_535           Osler at Grant  43.259550 -79.942643   \n",
      "..         ...                      ...        ...        ...   \n",
      "139   hub_5845           Jackson Square  43.256935 -79.869577   \n",
      "140   hub_5846         Cannon at Steven  43.256461 -79.849981   \n",
      "141   hub_5883          RBG Rock Garden  43.289479 -79.891693   \n",
      "142   hub_5903                   Pier 8  43.275289 -79.856907   \n",
      "143   hub_6148    King William at James  43.257392 -79.867902   \n",
      "\n",
      "     Number of Bikes Available  \n",
      "0                            7  \n",
      "1                            2  \n",
      "2                            2  \n",
      "3                           11  \n",
      "4                            1  \n",
      "..                         ...  \n",
      "139                          6  \n",
      "140                          7  \n",
      "141                          4  \n",
      "142                          4  \n",
      "143                          0  \n",
      "\n",
      "[144 rows x 5 columns]\n"
     ]
    }
   ],
   "source": [
    "# Send GET requests to the station information and status URLs\n",
    "response_info = requests.get(station_info_href)\n",
    "response_status = requests.get(station_status_href)\n",
    "station_info_data = response_info.json()\n",
    "station_status_data = response_status.json()\n",
    "\n",
    "# Extract relevant data from station information and status\n",
    "station_info = station_info_data['data']['stations']\n",
    "station_status = station_status_data['data']['stations']\n",
    "\n",
    "# Create a DataFrame to store the combined information\n",
    "data = []\n",
    "for info in station_info:\n",
    "    station_id = info['station_id']\n",
    "    name = info['name']\n",
    "    latitude = info['lat']\n",
    "    longitude = info['lon']\n",
    "    status = next((status for status in station_status if status['station_id'] == station_id), {})\n",
    "    num_bikes_available = status.get('num_bikes_available', 'N/A')\n",
    "    data.append([station_id, name, latitude, longitude, num_bikes_available])\n",
    "\n",
    "df = pd.DataFrame(data, columns=['Station ID', 'Name', 'Latitude', 'Longitude', 'Number of Bikes Available'])\n",
    "print(df)\n",
    "\n",
    "df.to_csv('bike_station_data.csv', index=False)\n",
    "\n",
    "# print(f\"Station ID: {station_id}\")\n",
    "# print(f\"Name: {name}\")\n",
    "# print(f\"Latitude: {latitude}\")\n",
    "# print(f\"Longitude: {longitude}\")\n",
    "# print(f\"Number of bikes available: {num_bikes_available}\")\n",
    "# print()\n",
    "\n"
   ]
  }
 ],
 "metadata": {
  "kernelspec": {
   "display_name": "Python 3",
   "language": "python",
   "name": "python3"
  },
  "language_info": {
   "codemirror_mode": {
    "name": "ipython",
    "version": 3
   },
   "file_extension": ".py",
   "mimetype": "text/x-python",
   "name": "python",
   "nbconvert_exporter": "python",
   "pygments_lexer": "ipython3",
   "version": "3.10.9"
  }
 },
 "nbformat": 4,
 "nbformat_minor": 4
}
